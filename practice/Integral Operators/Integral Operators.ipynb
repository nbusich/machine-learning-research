{
 "cells": [
  {
   "metadata": {
    "ExecuteTime": {
     "end_time": "2025-03-13T20:03:04.582769Z",
     "start_time": "2025-03-13T20:03:04.579801Z"
    }
   },
   "cell_type": "code",
   "source": [
    "import numpy as np\n",
    "from IPython.terminal.shortcuts import previous_history_or_previous_completion"
   ],
   "id": "ee7bf21fd7f0226",
   "outputs": [],
   "execution_count": 208
  },
  {
   "metadata": {
    "ExecuteTime": {
     "end_time": "2025-03-13T20:03:04.597086Z",
     "start_time": "2025-03-13T20:03:04.592597Z"
    }
   },
   "cell_type": "code",
   "source": [
    "import numpy as np\n",
    "\n",
    "v1 = np.array([[1],\n",
    "               [2],\n",
    "               [4]])\n",
    "v2 = np.array([[1],\n",
    "               [0],\n",
    "               [1]])\n",
    "v3 = np.array([[3],\n",
    "               [2],\n",
    "               [6]])\n",
    "v4 = np.array([[4],\n",
    "               [4],\n",
    "               [10]])\n",
    "\n",
    "# Horizontally stack to form a 3x4 matrix\n",
    "V = np.hstack((v1, v2, v3, v4))\n",
    "[D, U] = np.linalg.eigh(V.dot(V.T))\n",
    "print(D)"
   ],
   "id": "bb53b41b88909667",
   "outputs": [
    {
     "name": "stdout",
     "output_type": "stream",
     "text": [
      "[1.81388436e-15 1.51119465e+00 2.02488805e+02]\n"
     ]
    }
   ],
   "execution_count": 209
  },
  {
   "metadata": {
    "ExecuteTime": {
     "end_time": "2025-03-13T20:03:04.680926Z",
     "start_time": "2025-03-13T20:03:04.678049Z"
    }
   },
   "cell_type": "code",
   "source": [
    "u1 = np.reshape(U[:,1], (3,1))\n",
    "u2 = np.reshape(U[:,2], (3,1))\n",
    "u = np.hstack((u1, u2))\n",
    "print(u.shape)"
   ],
   "id": "6953d0eaa84c4495",
   "outputs": [
    {
     "name": "stdout",
     "output_type": "stream",
     "text": [
      "(3, 2)\n"
     ]
    }
   ],
   "execution_count": 210
  },
  {
   "metadata": {
    "ExecuteTime": {
     "end_time": "2025-03-13T20:03:04.760719Z",
     "start_time": "2025-03-13T20:03:04.757952Z"
    }
   },
   "cell_type": "code",
   "source": [
    "y = np.array([[7],[10],[22]])\n",
    "sol = np.linalg.inv(u.T@u)@u.T@y\n",
    "print(sol)"
   ],
   "id": "19136f55cc470c3b",
   "outputs": [
    {
     "name": "stdout",
     "output_type": "stream",
     "text": [
      "[[  2.48032208]\n",
      " [-25.03693277]]\n"
     ]
    }
   ],
   "execution_count": 211
  },
  {
   "metadata": {
    "ExecuteTime": {
     "end_time": "2025-03-13T20:03:04.793621Z",
     "start_time": "2025-03-13T20:03:04.790992Z"
    }
   },
   "cell_type": "code",
   "source": [
    "# Solving for a matrix given its eigenvectors (V) and eigenvalues(e) using formula V @ E @ V.T = A. \n",
    "# Note, eigenvalues must be transformed from vector e to matrix E\n",
    "A = np.array([[2,1],[1,2]])\n",
    "e, V = np.linalg.eigh(A)\n",
    "E = np.diagflat(e)\n",
    "print(E)\n",
    "print(V @ E @ V.T)"
   ],
   "id": "ff8b4aac2ed94c32",
   "outputs": [
    {
     "name": "stdout",
     "output_type": "stream",
     "text": [
      "[[1. 0.]\n",
      " [0. 3.]]\n",
      "[[2. 1.]\n",
      " [1. 2.]]\n"
     ]
    }
   ],
   "execution_count": 212
  },
  {
   "metadata": {
    "ExecuteTime": {
     "end_time": "2025-03-13T20:03:04.815624Z",
     "start_time": "2025-03-13T20:03:04.812618Z"
    }
   },
   "cell_type": "code",
   "source": [
    "# # Original 2D vectors\n",
    "x1 = np.array([[1],\n",
    "               [2]])\n",
    "x2 = np.array([[4],\n",
    "               [1]])\n",
    "x3 = np.array([[3],\n",
    "               [3]])\n",
    "x4 = np.array([[5],\n",
    "               [2]])\n",
    "x5 = np.array([[1],\n",
    "               [1]])\n",
    "\n",
    "phi = np.array([[1, 2, 1],\n",
    "                [4, 1, 1],\n",
    "                [3, 3, 1],\n",
    "                [5, 2, 1],\n",
    "                [1, 1, 1]])\n",
    "\n",
    "int_op = 1 / 2 * phi.T @ phi\n",
    "print(\"Integral Operator Matrix:  \\n\", int_op)\n",
    "\n",
    "# To find the eigenfunctions of the RKHS, find the necessary eigenvectors of the integral operator matrix\n",
    "[e, v] = np.linalg.eigh(int_op)\n",
    "print(\"\\neigenvals:\")\n",
    "print(e)\n",
    "print(\"\\neigenvecs:\")\n",
    "print(v)"
   ],
   "id": "6932f21eb1a4d086",
   "outputs": [
    {
     "name": "stdout",
     "output_type": "stream",
     "text": [
      "Integral Operator Matrix:  \n",
      " [[26.  13.   7. ]\n",
      " [13.   9.5  4.5]\n",
      " [ 7.   4.5  2.5]]\n",
      "\n",
      "eigenvals:\n",
      "[ 0.24980145  2.49830389 35.25189466]\n",
      "\n",
      "eigenvecs:\n",
      "[[-0.08471245 -0.52421445 -0.84736238]\n",
      " [-0.33709272  0.81535207 -0.4707117 ]\n",
      " [ 0.93765255  0.24576454 -0.24577935]]\n"
     ]
    }
   ],
   "execution_count": 213
  },
  {
   "metadata": {
    "ExecuteTime": {
     "end_time": "2025-03-13T20:03:04.827946Z",
     "start_time": "2025-03-13T20:03:04.825093Z"
    }
   },
   "cell_type": "code",
   "source": [
    "# vec, the eigenvectors of the integral operator, is the eigenfunction matrix, and any point in the RKHS is a linear combination of it\n",
    "y = np.array([[1],[2],[1]])\n",
    "w = np.linalg.inv(vec.T@vec)@vec.T@y\n",
    "print(w, \"\\n\")\n",
    "print(vec@w)"
   ],
   "id": "559e6e7ef193d998",
   "outputs": [
    {
     "name": "stdout",
     "output_type": "stream",
     "text": [
      "[[ 0.17875466]\n",
      " [ 1.35225423]\n",
      " [-2.03456513]] \n",
      "\n",
      "[[1.]\n",
      " [2.]\n",
      " [1.]]\n"
     ]
    }
   ],
   "execution_count": 214
  },
  {
   "metadata": {
    "ExecuteTime": {
     "end_time": "2025-03-13T20:03:04.845646Z",
     "start_time": "2025-03-13T20:03:04.840089Z"
    }
   },
   "cell_type": "code",
   "source": [
    "# Calculating Kernel Matrix\n",
    "X = np.array([[1,1],\n",
    "              [2,2],\n",
    "              [3,3]])\n",
    "def k(x,y):\n",
    "    return ((x.T @ y) + 1)**2\n",
    "K_1 = np.zeros((3,3))\n",
    "for i in range(X.shape[0]):\n",
    "    for j in range(X.shape[0]):\n",
    "        element = k(X[i,:], X[j,:])\n",
    "        K_1[i,j] = element\n",
    "print(\"First way of getting Kernel Matrix using kernel function:\\n \", K_1)"
   ],
   "id": "9b1b4dc338c1dc2b",
   "outputs": [
    {
     "name": "stdout",
     "output_type": "stream",
     "text": [
      "First way of getting Kernel Matrix using kernel function:\n",
      "  [[  9.  25.  49.]\n",
      " [ 25.  81. 169.]\n",
      " [ 49. 169. 361.]]\n"
     ]
    }
   ],
   "execution_count": 215
  },
  {
   "metadata": {
    "ExecuteTime": {
     "end_time": "2025-03-13T20:03:04.864072Z",
     "start_time": "2025-03-13T20:03:04.860158Z"
    }
   },
   "cell_type": "code",
   "source": [
    "# Calculating Kernel Matrix\n",
    "def phi(x):\n",
    "    phi = np.ones((1,6))\n",
    "    phi[:,0] = x[0] ** 2\n",
    "    phi[:,1] = np.sqrt(2) * x[0] * x[1]\n",
    "    phi[:,2] = np.sqrt(2) * x[0]\n",
    "    phi[:,3] = np.sqrt(2) * x[1]\n",
    "    phi[:,4] = x[1] ** 2\n",
    "    phi[:,5] = 1\n",
    "    return phi\n",
    "phi_1 = phi(X[0,:])\n",
    "phi_2 = phi(X[1,:])\n",
    "phi_3 = phi(X[2,:])\n",
    "phi = np.vstack([phi_1,phi_2,phi_3])\n",
    "\n",
    "K_2 = phi@phi.T\n",
    "print(\"Second way of getting kernel matrix using feature map:\\n \", K_2)"
   ],
   "id": "9c35c37c54456088",
   "outputs": [
    {
     "name": "stdout",
     "output_type": "stream",
     "text": [
      "Second way of getting kernel matrix using feature map:\n",
      "  [[  9.  25.  49.]\n",
      " [ 25.  81. 169.]\n",
      " [ 49. 169. 361.]]\n"
     ]
    }
   ],
   "execution_count": 216
  },
  {
   "metadata": {
    "ExecuteTime": {
     "end_time": "2025-03-13T20:03:04.883704Z",
     "start_time": "2025-03-13T20:03:04.880494Z"
    }
   },
   "cell_type": "code",
   "source": [
    "# Calculating Integral Operator Matrix\n",
    "def intop_with_phi(X, phi):\n",
    "    # This function makes an integral operator matrix when you know the feature map\n",
    "    # X (train matrix) has shape (n,d). The n is the number of rows.\n",
    "    n = X.shape[0]\n",
    "    T = (1/n) * phi.T @ phi\n",
    "    return T\n",
    "T = intop_with_phi(X, phi)\n",
    "\n",
    "sig, v = np.linalg.eig(T)\n",
    "print(\"hello\")\n",
    "def nonzero_eigenvectors(matrix):\n",
    "    tol=1e-10\n",
    "    eigenvalues, eigenvectors = np.linalg.eig(matrix)\n",
    "    nonzero_mask = np.abs(eigenvalues) > tol  # Avoid numerical precision issues\n",
    "    return eigenvectors[:, nonzero_mask]\n",
    "\n",
    "print(\"eigenvalues of integral operator matrix: \", sig)\n",
    "print(\"nonzero eigenvectors: \\n\", nonzero_eigenvectors(T))"
   ],
   "id": "30369c7b4c840fa2",
   "outputs": [
    {
     "name": "stdout",
     "output_type": "stream",
     "text": [
      "hello\n",
      "eigenvalues of integral operator matrix:  [ 1.49117396e+02  1.20272082e+00  1.32167011e-02 -1.09600992e-14\n",
      " -2.78659036e-15 -5.46063058e-20]\n",
      "nonzero eigenvectors: \n",
      " [[-0.46780608 -0.16662765  0.05824683]\n",
      " [-0.66157771 -0.23564708  0.08237346]\n",
      " [-0.24491192  0.56756935 -0.34334121]\n",
      " [-0.24491192  0.56756935 -0.34334121]\n",
      " [-0.46780608 -0.16662765  0.05824683]\n",
      " [-0.06830941  0.49464226  0.86640802]]\n"
     ]
    }
   ],
   "execution_count": 217
  },
  {
   "metadata": {
    "ExecuteTime": {
     "end_time": "2025-03-13T20:03:04.900902Z",
     "start_time": "2025-03-13T20:03:04.897630Z"
    }
   },
   "cell_type": "code",
   "source": [
    "sig_T = sig\n",
    "sig_K, v_K = np.linalg.eig(K_2)\n",
    "\n",
    "nonzero_values_T = sig_T[0:3]\n",
    "print(\"Eigenvalues of integral operator matrix:\\n\", nonzero_values_T)\n",
    "print(\"Eigenvalues of Kernel matrix:\\n\", sig_K)\n",
    "\n",
    "factor = sig_K/nonzero_values_T\n",
    "print(\"scalar factor between eigenvalues: \", factor)\n",
    "\n",
    "eigenfunctions = nonzero_eigenvectors(K_2)\n"
   ],
   "id": "762203f10d79c974",
   "outputs": [
    {
     "name": "stdout",
     "output_type": "stream",
     "text": [
      "Eigenvalues of integral operator matrix:\n",
      " [1.49117396e+02 1.20272082e+00 1.32167011e-02]\n",
      "Eigenvalues of Kernel matrix:\n",
      " [4.47352187e+02 3.60816247e+00 3.96501033e-02]\n",
      "scalar factor between eigenvalues:  [3. 3. 3.]\n"
     ]
    }
   ],
   "execution_count": 218
  },
  {
   "metadata": {
    "ExecuteTime": {
     "end_time": "2025-03-13T20:03:04.918662Z",
     "start_time": "2025-03-13T20:03:04.915279Z"
    }
   },
   "cell_type": "code",
   "source": [
    "eigenlist = []\n",
    "for i in range(sig_K.shape[0]):\n",
    "    ei = (1/(np.sqrt(sig_K[i]))) * phi.T @ eigenfunctions[i]\n",
    "    eigenlist.append(ei)\n",
    "phi_hat = np.stack(eigenlist).T"
   ],
   "id": "f41fdcae1d03bb02",
   "outputs": [
    {
     "name": "stdout",
     "output_type": "stream",
     "text": [
      "[[ 4.18421532e-02  5.91737405e-02  6.66243630e-03  6.66243630e-03\n",
      "   4.18421532e-02 -3.70159893e-03]\n",
      " [-1.59933854e+00 -2.26180625e+00 -9.14375068e-01 -9.14375068e-01\n",
      "  -1.59933854e+00 -2.96964967e-01]\n",
      " [ 4.70147281e+00  6.64888662e+00  1.37106629e+00  1.37106629e+00\n",
      "   4.70147281e+00 -4.76601071e-01]]\n"
     ]
    }
   ],
   "execution_count": 219
  },
  {
   "metadata": {
    "ExecuteTime": {
     "end_time": "2025-03-13T20:03:56.337103Z",
     "start_time": "2025-03-13T20:03:56.316952Z"
    }
   },
   "cell_type": "code",
   "source": [
    "def check_subspace_equivalence(phi_hat, phi_T, tol=1e-12):\n",
    "    \"\"\"\n",
    "    Checks whether columns of phi_hat and phi_T span the same subspace.\n",
    "    \n",
    "    Parameters:\n",
    "        phi_hat : np.ndarray of shape (N, k)\n",
    "            Eigenfunctions (as columns) from the kernel matrix approach.\n",
    "        phi_T   : np.ndarray of shape (N, k)\n",
    "            Eigenfunctions (as columns) from the integral operator approach.\n",
    "        tol     : float\n",
    "            Tolerance for considering two projectors \"equal.\"\n",
    "    \"\"\"\n",
    "    # 1. Orthonormalize the columns of phi_hat\n",
    "    #    (QR decomposition automatically produces orthonormal columns in Q)\n",
    "    Q1, _ = np.linalg.qr(phi_hat)\n",
    "    \n",
    "    # 2. Orthonormalize the columns of phi_T\n",
    "    Q2, _ = np.linalg.qr(phi_T)\n",
    "    \n",
    "    # 3. Construct the orthogonal projectors onto each subspace\n",
    "    #    P1 = Q1 Q1^T, P2 = Q2 Q2^T\n",
    "    P1 = Q1 @ Q1.T\n",
    "    P2 = Q2 @ Q2.T\n",
    "    \n",
    "    # 4. Compare the difference in Frobenius norm or spectral norm\n",
    "    diff_norm = np.linalg.norm(P1 - P2, ord='fro')\n",
    "    \n",
    "    if diff_norm < tol:\n",
    "        print(f\"Subspace check: PASSED (difference in projectors = {diff_norm:.2e} < tol)\")\n",
    "    else:\n",
    "        print(f\"Subspace check: FAILED (difference in projectors = {diff_norm:.2e} >= tol)\")\n",
    "        \n",
    "        \n",
    "def check_pairwise_alignment(phi_hat, phi_T, tol=1e-12):\n",
    "    \"\"\"\n",
    "    Checks if each corresponding column in phi_hat and phi_T is collinear\n",
    "    (i.e., same up to a scalar) under a certain tolerance.\n",
    "    \n",
    "    Parameters:\n",
    "        phi_hat : np.ndarray of shape (N, k)\n",
    "        phi_T   : np.ndarray of shape (N, k)\n",
    "        tol     : float\n",
    "            Tolerance for \"close enough\" in vector norms.\n",
    "    \"\"\"\n",
    "    k = phi_hat.shape[1]\n",
    "    if phi_T.shape[1] != k:\n",
    "        raise ValueError(\"phi_hat and phi_T must have the same number of columns\")\n",
    "\n",
    "    for i in range(k):\n",
    "        # Column i\n",
    "        v1 = phi_hat[:, i]\n",
    "        v2 = phi_T[:, i]\n",
    "        \n",
    "        # Best scalar to map v2 to v1 in least-squares sense\n",
    "        # alpha = (v1^T v2) / (v2^T v2)\n",
    "        denom = np.dot(v2, v2)\n",
    "        if abs(denom) < tol:\n",
    "            print(f\"Column {i}: v2 is nearly zero vector?\")\n",
    "            continue\n",
    "        alpha = np.dot(v1, v2) / denom\n",
    "        \n",
    "        # Compare alpha * v2 to v1\n",
    "        diff = v1 - alpha * v2\n",
    "        diff_norm = np.linalg.norm(diff)\n",
    "        v1_norm = np.linalg.norm(v1)\n",
    "        \n",
    "        if v1_norm > tol:\n",
    "            rel_err = diff_norm / v1_norm\n",
    "        else:\n",
    "            # If v1 is close to zero, just use abs difference\n",
    "            rel_err = diff_norm\n",
    "        \n",
    "        print(f\"Column {i}: best alpha = {alpha:.4g}, relative error = {rel_err:.2e}\")\n",
    "        \n",
    "        if rel_err < tol:\n",
    "            print(f\"  -> Columns match (up to scalar).\")\n",
    "        else:\n",
    "            print(f\"  -> Columns do NOT match within tol.\")\n",
    "\n",
    "# Suppose you have:\n",
    "# phi_hat: (N, k) from your kernel approach\n",
    "# phi_T:   (N, k) from your integral operator approach\n",
    "\n",
    "# 1) Subspace check\n",
    "check_subspace_equivalence(phi_hat, nonzero_eigenvectors(T), tol=1e-8)\n",
    "\n",
    "# 2) Pairwise check (only if you've matched columns or there's no degeneracy)\n",
    "check_pairwise_alignment(phi_hat, nonzero_eigenvectors(T), tol=1e-8)"
   ],
   "id": "18f738e92c17e1b0",
   "outputs": [
    {
     "name": "stdout",
     "output_type": "stream",
     "text": [
      "Subspace check: PASSED (difference in projectors = 1.81e-13 < tol)\n",
      "Column 0: best alpha = -0.08131, relative error = 2.64e-01\n",
      "  -> Columns do NOT match within tol.\n",
      "Column 1: best alpha = -0.1189, relative error = 9.99e-01\n",
      "  -> Columns do NOT match within tol.\n",
      "Column 2: best alpha = -0.259, relative error = 1.00e+00\n",
      "  -> Columns do NOT match within tol.\n"
     ]
    }
   ],
   "execution_count": 221
  }
 ],
 "metadata": {
  "kernelspec": {
   "display_name": "Python 3",
   "language": "python",
   "name": "python3"
  },
  "language_info": {
   "codemirror_mode": {
    "name": "ipython",
    "version": 2
   },
   "file_extension": ".py",
   "mimetype": "text/x-python",
   "name": "python",
   "nbconvert_exporter": "python",
   "pygments_lexer": "ipython2",
   "version": "2.7.6"
  }
 },
 "nbformat": 4,
 "nbformat_minor": 5
}
