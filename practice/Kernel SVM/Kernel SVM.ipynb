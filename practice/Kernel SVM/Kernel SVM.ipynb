{
 "cells": [
  {
   "cell_type": "code",
   "id": "initial_id",
   "metadata": {
    "collapsed": true,
    "ExecuteTime": {
     "end_time": "2025-03-12T19:13:21.293565Z",
     "start_time": "2025-03-12T19:13:21.228744Z"
    }
   },
   "source": [
    "import numpy as np\n",
    "import matplotlib.pyplot as plt\n",
    "X = np.array([\n",
    "    [0, 2],\n",
    "    [0, 1],\n",
    "    [1, 0],\n",
    "    [3, 4],\n",
    "    [5, 2],\n",
    "    [5, 3]\n",
    "])\n",
    "\n",
    "y = np.array([\n",
    "    [-1],\n",
    "    [-1],\n",
    "    [-1],\n",
    "    [1],\n",
    "    [1],\n",
    "    [1]\n",
    "])\n"
   ],
   "outputs": [
    {
     "data": {
      "text/plain": [
       "<Figure size 640x480 with 1 Axes>"
      ],
      "image/png": "[encoded data removed]"
     },
     "metadata": {},
     "output_type": "display_data"
    }
   ],
   "execution_count": 119
  },
  {
   "metadata": {
    "ExecuteTime": {
     "end_time": "2025-03-12T19:13:21.305379Z",
     "start_time": "2025-03-12T19:13:21.300843Z"
    }
   },
   "cell_type": "code",
   "source": [
    "from sklearn.metrics.pairwise import *\n",
    "from sklearn.metrics import accuracy_score\n",
    "from sklearn.svm import SVC\n",
    "from numpy.linalg import norm"
   ],
   "id": "1e3a9d3cc9846117",
   "outputs": [],
   "execution_count": 120
  },
  {
   "metadata": {
    "ExecuteTime": {
     "end_time": "2025-03-12T19:39:52.653127Z",
     "start_time": "2025-03-12T19:39:52.647187Z"
    }
   },
   "cell_type": "code",
   "source": [
    "# L shape = (6,1)\n",
    "g = 0.01\n",
    "u1 = 0.1\n",
    "u2 = 5\n",
    "K = polynomial_kernel(X, degree = 3, gamma = g)\n",
    "Y = np.diagflat(y)\n",
    "L = np.random.randn(6,1)\n",
    "print(type(L[0,0]))\n",
    "alpha = 0.0001"
   ],
   "id": "2f3f5559dfad6454",
   "outputs": [
    {
     "name": "stdout",
     "output_type": "stream",
     "text": [
      "<class 'numpy.float64'>\n"
     ]
    }
   ],
   "execution_count": 161
  },
  {
   "metadata": {
    "ExecuteTime": {
     "end_time": "2025-03-12T19:39:54.756997Z",
     "start_time": "2025-03-12T19:39:54.536331Z"
    }
   },
   "cell_type": "code",
   "source": [
    "def f(L, Y, K, u1, y):\n",
    "    f_star = ((1/2)*L.T@Y@K@Y@L) + (u1*(L.T@y)*(L.T@y)) - (np.ones((6,1)).T @ L)\n",
    "    return f_star\n",
    "\n",
    "def grad_f(L, Y, K, u1, y):\n",
    "    dL = np.zeros((6,1))\n",
    "    dL[L<0] = -1\n",
    "    df = Y@K@Y@L + 2*u1*(L.T@y)*y - np.ones((6,1)) + np.ones((6,1)).T @ dL\n",
    "    return df\n",
    "\n",
    "for i in range(10000):\n",
    "    grad = grad_f(L, Y, K, u1, y)\n",
    "    L = L - alpha * grad\n",
    "    f_star = f(L, Y, K, u1, y)\n",
    "    if i % 1000 == 0:\n",
    "        print(f\"Iteration {i}, f_star = {f_star}, L norm = {np.linalg.norm(L)}, grad = {grad}\")\n",
    "    "
   ],
   "id": "7afcf070d5401f68",
   "outputs": [
    {
     "name": "stdout",
     "output_type": "stream",
     "text": [
      "Iteration 0, f_star = [[2.70457499]], L norm = 2.9619119105316756, grad = [[-1.65570961]\n",
      " [-1.65570961]\n",
      " [-1.4284339 ]\n",
      " [-7.09905207]\n",
      " [-7.73199391]\n",
      " [-7.73199391]]\n",
      "Iteration 1000, f_star = [[-2.69602166]], L norm = 3.120711733705382, grad = [[-2.98010839]\n",
      " [-2.98010839]\n",
      " [-2.99507081]\n",
      " [-4.97915321]\n",
      " [-4.96031628]\n",
      " [-4.96031628]]\n",
      "Iteration 2000, f_star = [[-4.32619547]], L norm = 3.4736524820024814, grad = [[-2.3780918 ]\n",
      " [-2.3780918 ]\n",
      " [-2.52590224]\n",
      " [-3.14448618]\n",
      " [-2.76719491]\n",
      " [-2.76719491]]\n",
      "Iteration 3000, f_star = [[-5.18113528]], L norm = 3.8874160465906415, grad = [[-2.42028264]\n",
      " [-2.42028264]\n",
      " [-2.66403554]\n",
      " [-2.78666597]\n",
      " [-2.14988175]\n",
      " [-2.14988175]]\n",
      "Iteration 4000, f_star = [[-5.56118557]], L norm = 4.175420124860618, grad = [[-1.34356711]\n",
      " [-1.34356711]\n",
      " [-1.63554529]\n",
      " [-1.70482109]\n",
      " [-0.93784166]\n",
      " [-0.93784166]]\n",
      "Iteration 5000, f_star = [[-5.82969255]], L norm = 4.440121034732348, grad = [[-1.24993682]\n",
      " [-1.24993682]\n",
      " [-1.58004878]\n",
      " [-1.6731682 ]\n",
      " [-0.80348646]\n",
      " [-0.80348646]]\n",
      "Iteration 6000, f_star = [[-6.03644316]], L norm = 4.699975262781232, grad = [[-1.15450288]\n",
      " [-1.15450288]\n",
      " [-1.51890778]\n",
      " [-1.65602818]\n",
      " [-0.69421773]\n",
      " [-0.69421773]]\n",
      "Iteration 7000, f_star = [[-6.19504071]], L norm = 4.953536172821867, grad = [[-1.06299315]\n",
      " [-1.06299315]\n",
      " [-1.45856108]\n",
      " [-1.64533664]\n",
      " [-0.60005326]\n",
      " [-0.60005326]]\n",
      "Iteration 8000, f_star = [[-6.31664311]], L norm = 5.200093941580122, grad = [[-0.97744848]\n",
      " [-0.97744848]\n",
      " [-1.4014788 ]\n",
      " [-1.63763765]\n",
      " [-0.51636862]\n",
      " [-0.51636862]]\n",
      "Iteration 9000, f_star = [[-6.41908094]], L norm = 5.3334875039296, grad = [[ 0.09139681]\n",
      " [ 0.09139681]\n",
      " [-0.3390553 ]\n",
      " [-0.68590841]\n",
      " [ 0.45133338]\n",
      " [ 0.45133338]]\n"
     ]
    }
   ],
   "execution_count": 162
  },
  {
   "metadata": {
    "ExecuteTime": {
     "end_time": "2025-03-12T19:39:57.378662Z",
     "start_time": "2025-03-12T19:39:57.372095Z"
    }
   },
   "cell_type": "code",
   "source": [
    "y_hat = K@(L*y)\n",
    "# Indices of negative samples\n",
    "neg_idx = np.where(y.ravel() == -1)[0]  \n",
    "# Indices of positive samples\n",
    "pos_idx = np.where(y.ravel() ==  1)[0]\n",
    "\n",
    "neg_side = np.max(y_hat[neg_idx])\n",
    "pos_side = np.min(y_hat[pos_idx])\n",
    "\n",
    "b = (pos_side + neg_side)/2\n",
    "y_hat = np.sign(K@(L*y) + b)\n",
    "print(\"Accuracy: \", accuracy_score(y, y_hat))"
   ],
   "id": "fbd43921180f3bc",
   "outputs": [
    {
     "name": "stdout",
     "output_type": "stream",
     "text": [
      "Accuracy:  1.0\n"
     ]
    }
   ],
   "execution_count": 163
  },
  {
   "metadata": {
    "ExecuteTime": {
     "end_time": "2025-03-13T19:14:42.804659Z",
     "start_time": "2025-03-13T19:14:42.606589Z"
    }
   },
   "cell_type": "code",
   "source": "",
   "id": "f43b89cc08295f45",
   "outputs": [
    {
     "ename": "NameError",
     "evalue": "name 'X' is not defined",
     "output_type": "error",
     "traceback": [
      "\u001B[0;31m---------------------------------------------------------------------------\u001B[0m",
      "\u001B[0;31mNameError\u001B[0m                                 Traceback (most recent call last)",
      "Cell \u001B[0;32mIn[1], line 8\u001B[0m\n\u001B[1;32m      6\u001B[0m     T \u001B[38;5;241m=\u001B[39m (\u001B[38;5;241m1\u001B[39m\u001B[38;5;241m/\u001B[39mn) \u001B[38;5;241m*\u001B[39m phi\u001B[38;5;241m.\u001B[39mT \u001B[38;5;241m@\u001B[39m phi\n\u001B[1;32m      7\u001B[0m     \u001B[38;5;28;01mreturn\u001B[39;00m T\n\u001B[0;32m----> 8\u001B[0m T \u001B[38;5;241m=\u001B[39m intop_with_phi(X, phi)\n\u001B[1;32m     10\u001B[0m sig, v \u001B[38;5;241m=\u001B[39m np\u001B[38;5;241m.\u001B[39mlinalg\u001B[38;5;241m.\u001B[39meig(T)\n\u001B[1;32m     12\u001B[0m \u001B[38;5;28;01mdef\u001B[39;00m \u001B[38;5;21mnonzero_eigenvectors\u001B[39m(matrix):\n",
      "\u001B[0;31mNameError\u001B[0m: name 'X' is not defined"
     ]
    }
   ],
   "execution_count": 1
  }
 ],
 "metadata": {
  "kernelspec": {
   "display_name": "Python 3",
   "language": "python",
   "name": "python3"
  },
  "language_info": {
   "codemirror_mode": {
    "name": "ipython",
    "version": 2
   },
   "file_extension": ".py",
   "mimetype": "text/x-python",
   "name": "python",
   "nbconvert_exporter": "python",
   "pygments_lexer": "ipython2",
   "version": "2.7.6"
  }
 },
 "nbformat": 4,
 "nbformat_minor": 5
}
