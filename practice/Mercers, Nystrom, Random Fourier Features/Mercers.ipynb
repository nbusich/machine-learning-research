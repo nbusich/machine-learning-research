{
 "cells": [
  {
   "cell_type": "code",
   "id": "initial_id",
   "metadata": {
    "collapsed": true,
    "ExecuteTime": {
     "end_time": "2025-03-14T17:05:37.792898Z",
     "start_time": "2025-03-14T17:05:37.785430Z"
    }
   },
   "source": [
    "import numpy as np\n",
    "from pprint import pprint\n",
    "from sklearn.metrics.pairwise import rbf_kernel\n",
    "X = np.random.randn(2000,2)"
   ],
   "outputs": [],
   "execution_count": 7
  },
  {
   "metadata": {
    "ExecuteTime": {
     "end_time": "2025-03-14T17:55:26.233128Z",
     "start_time": "2025-03-14T17:55:26.127925Z"
    }
   },
   "cell_type": "code",
   "source": [
    "# Sklearn to generate gaussian kernel\n",
    "K_sklearn = rbf_kernel(X, X, gamma=0.5)\n",
    "print(\"Gaussian Kernel Matrix from SKlearn(RBF):\")\n",
    "pprint(K_sklearn)"
   ],
   "id": "2dc4a34b3f81d36c",
   "outputs": [
    {
     "name": "stdout",
     "output_type": "stream",
     "text": [
      "Gaussian Kernel Matrix from SKlearn(RBF):\n",
      "(2000, 2000)\n"
     ]
    }
   ],
   "execution_count": 17
  },
  {
   "metadata": {
    "ExecuteTime": {
     "end_time": "2025-03-14T17:47:03.438722Z",
     "start_time": "2025-03-14T17:47:03.431065Z"
    }
   },
   "cell_type": "code",
   "source": [
    "# Nystrom to generate same kernel\n",
    "def random_noncontiguous_submatrix(A, subshape):\n",
    "    M, N = A.shape\n",
    "    m, n = subshape\n",
    "    num_elements = m * n\n",
    "\n",
    "    # Flatten and randomly select indices\n",
    "    indices = np.random.choice(M * N, num_elements, replace=False)\n",
    "    return A.flatten()[indices].reshape(m, n)\n",
    "\n",
    "subA = random_noncontiguous_submatrix(X, (250, 2))"
   ],
   "id": "a2fda751fd2c2ee4",
   "outputs": [],
   "execution_count": 9
  },
  {
   "metadata": {
    "ExecuteTime": {
     "end_time": "2025-03-14T18:00:57.473157Z",
     "start_time": "2025-03-14T18:00:57.347413Z"
    }
   },
   "cell_type": "code",
   "source": [
    "# RFF to generate same kernel\n",
    "m = 1000\n",
    "d = 2\n",
    "n = 2000\n",
    "X = X\n",
    "\n",
    "sigma = np.sqrt(1 / (2 * 0.5))  # Compute standard deviation\n",
    "W = np.random.normal(loc=0, scale=sigma, size=(m, d))\n",
    "print(W.shape)\n",
    "\n",
    "B = np.random.uniform(low=0, high=2*np.pi, size=(m, ))\n",
    "print(B.shape)\n",
    "\n",
    "phi = np.sqrt(2/m) * np.cos(X@W.T+B)\n",
    "print(phi.shape)\n",
    "\n",
    "K = phi@phi.T\n",
    "print(K.shape)"
   ],
   "id": "bae0d2ad78a0bc2d",
   "outputs": [
    {
     "name": "stdout",
     "output_type": "stream",
     "text": [
      "(1000, 2)\n",
      "(1000,)\n",
      "(2000, 1000)\n",
      "(2000, 2000)\n"
     ]
    }
   ],
   "execution_count": 19
  },
  {
   "metadata": {
    "ExecuteTime": {
     "end_time": "2025-03-14T18:01:00.824046Z",
     "start_time": "2025-03-14T18:01:00.820704Z"
    }
   },
   "cell_type": "code",
   "source": [
    "for i in range(10):\n",
    "    print(\"Sklearn: \",K_sklearn[i, 1], \"RFF: \", K[i, 1])"
   ],
   "id": "dd7906a9bd1d63ed",
   "outputs": [
    {
     "name": "stdout",
     "output_type": "stream",
     "text": [
      "Sklearn:  0.1304446491341354 RFF:  0.15976337565055299\n",
      "Sklearn:  1.0 RFF:  1.0188208135502514\n",
      "Sklearn:  0.12210665729919587 RFF:  0.13494168859201675\n",
      "Sklearn:  0.8451789615597173 RFF:  0.8438489363137935\n",
      "Sklearn:  0.2963717160214413 RFF:  0.3037364967539733\n",
      "Sklearn:  0.0030610101245469173 RFF:  0.06815943793657611\n",
      "Sklearn:  0.1951112026563514 RFF:  0.2031909160634238\n",
      "Sklearn:  0.20176752612867158 RFF:  0.2600722943577107\n",
      "Sklearn:  0.8615155678127775 RFF:  0.9052612414933378\n",
      "Sklearn:  0.2257446289534902 RFF:  0.23399521895045988\n"
     ]
    }
   ],
   "execution_count": 20
  },
  {
   "metadata": {
    "ExecuteTime": {
     "end_time": "2025-03-15T01:24:24.391024Z",
     "start_time": "2025-03-15T01:24:24.379824Z"
    }
   },
   "cell_type": "code",
   "source": [
    "# Define the adjacency list for the undirected graph\n",
    "adj_list_undirected = {\n",
    "    'A': ['B', 'C'],\n",
    "    'B': ['A', 'C', 'D'],\n",
    "    'C': ['A', 'B'],\n",
    "    'D': ['B']\n",
    "}\n",
    "\n",
    "# Define the adjacency list for the directed graph\n",
    "adj_list_directed = {\n",
    "    'A': ['B', 'C'],\n",
    "    'B': ['D'],\n",
    "    'C': ['B'],\n",
    "    'D': []\n",
    "}\n",
    "\n",
    "# Define the adjacency matrix for the undirected graph\n",
    "adj_matrix_undirected = [\n",
    "    [0, 1, 1, 0],  # A\n",
    "    [1, 0, 1, 1],  # B\n",
    "    [1, 1, 0, 0],  # C\n",
    "    [0, 1, 0, 0]   # D\n",
    "]\n",
    "\n",
    "# Define the adjacency matrix for the directed graph\n",
    "adj_matrix_directed = [\n",
    "    [0, 1, 1, 0],  # A\n",
    "    [0, 0, 0, 1],  # B\n",
    "    [0, 1, 0, 0],  # C\n",
    "    [0, 0, 0, 0]   # D\n",
    "]\n",
    "\n",
    "# Labels for the nodes\n",
    "nodes = ['A', 'B', 'C', 'D']\n",
    "\n",
    "# Function to print an adjacency matrix\n",
    "def print_matrix(matrix, nodes):\n",
    "    print(\"  \" + \" \".join(nodes))  # Print header row\n",
    "    for i, row in enumerate(matrix):\n",
    "        print(nodes[i] + \" \" + \" \".join(map(str, row)))\n",
    "\n",
    "# Display results\n",
    "print(\"\\nAdjacency List (Undirected):\")\n",
    "for node, neighbors in adj_list_undirected.items():\n",
    "    print(f\"{node}: {', '.join(neighbors)}\")\n",
    "\n",
    "print(\"\\nAdjacency List (Directed):\")\n",
    "for node, neighbors in adj_list_directed.items():\n",
    "    print(f\"{node}: {', '.join(neighbors)}\")\n",
    "\n",
    "print(\"\\nAdjacency Matrix (Undirected):\")\n",
    "print_matrix(adj_matrix_undirected, nodes)\n",
    "\n",
    "print(\"\\nAdjacency Matrix (Directed):\")\n",
    "print_matrix(adj_matrix_directed, nodes)\n",
    "\n"
   ],
   "id": "91822785454de5bf",
   "outputs": [
    {
     "name": "stdout",
     "output_type": "stream",
     "text": [
      "\n",
      "Adjacency List (Undirected):\n",
      "A: B, C\n",
      "B: A, C, D\n",
      "C: A, B\n",
      "D: B\n",
      "\n",
      "Adjacency List (Directed):\n",
      "A: B, C\n",
      "B: D\n",
      "C: B\n",
      "D: \n",
      "\n",
      "Adjacency Matrix (Undirected):\n",
      "  A B C D\n",
      "A 0 1 1 0\n",
      "B 1 0 1 1\n",
      "C 1 1 0 0\n",
      "D 0 1 0 0\n",
      "\n",
      "Adjacency Matrix (Directed):\n",
      "  A B C D\n",
      "A 0 1 1 0\n",
      "B 0 0 0 1\n",
      "C 0 1 0 0\n",
      "D 0 0 0 0\n"
     ]
    }
   ],
   "execution_count": 22
  }
 ],
 "metadata": {
  "kernelspec": {
   "display_name": "Python 3",
   "language": "python",
   "name": "python3"
  },
  "language_info": {
   "codemirror_mode": {
    "name": "ipython",
    "version": 2
   },
   "file_extension": ".py",
   "mimetype": "text/x-python",
   "name": "python",
   "nbconvert_exporter": "python",
   "pygments_lexer": "ipython2",
   "version": "2.7.6"
  }
 },
 "nbformat": 4,
 "nbformat_minor": 5
}
