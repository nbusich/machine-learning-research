{
 "cells": [
  {
   "cell_type": "code",
   "execution_count": null,
   "id": "initial_id",
   "metadata": {
    "collapsed": true
   },
   "outputs": [],
   "source": [
    "from PIL import Image\n",
    "from torchvision import transforms\n",
    "from torchvision.datasets import CIFAR10\n",
    "import random\n",
    "import torch"
   ]
  },
  {
   "metadata": {},
   "cell_type": "code",
   "outputs": [],
   "execution_count": null,
   "source": [
    "def compute_train_transform(seed=123456):\n",
    "    \"\"\"\n",
    "    This function returns a composition of data augmentations to a single training image.\n",
    "    Complete the following lines. Hint: look at available functions in torchvision.transforms\n",
    "    \"\"\"\n",
    "    random.seed(seed)\n",
    "    torch.random.manual_seed(seed)\n",
    "    \n",
    "    # Transformation that applies color jitter with brightness=0.4, contrast=0.4, saturation=0.4, and hue=0.1\n",
    "    color_jitter = transforms.ColorJitter(0.4, 0.4, 0.4, 0.1)  \n",
    "    \n",
    "    train_transform = transforms.Compose([\n",
    "        \n",
    "        # Step 1: Randomly resize and crop to 32x32.\n",
    "        transforms.RandomResizedCrop(size = (32,32)),\n",
    "\n",
    "        # Step 2: Horizontally flip the image with probability 0.5\n",
    "        transforms.RandomHorizontalFlip(p=0.5),\n",
    "\n",
    "        # Step 3: With a probability of 0.8, apply color jitter (you can use \"color_jitter\" defined above.\n",
    "        transforms.RandomApply([color_jitter],p=0.8),\n",
    "\n",
    "        # Step 4: With a probability of 0.2, convert the image to grayscale\n",
    "        transforms.RandomGrayscale(p=0.2),\n",
    "        \n",
    "        transforms.ToTensor(),\n",
    "        transforms.Normalize([0.4914, 0.4822, 0.4465], [0.2023, 0.1994, 0.2010])])\n",
    "    return train_transform"
   ],
   "id": "c66b51f4ecba9dab"
  },
  {
   "metadata": {},
   "cell_type": "code",
   "outputs": [],
   "execution_count": null,
   "source": [
    "class CIFAR10Pair(CIFAR10):\n",
    "    \"\"\"CIFAR10 Dataset.\n",
    "    \"\"\"\n",
    "    def __getitem__(self, index):\n",
    "        img, target = self.data[index], self.targets[index]\n",
    "        img = Image.fromarray(img)\n",
    "\n",
    "        x_i = None\n",
    "        x_j = None\n",
    "\n",
    "        if self.transform is not None:\n",
    "            \n",
    "            x_i = self.transform(img)\n",
    "            x_j = self.transform(img)\n",
    "\n",
    "        if self.target_transform is not None:\n",
    "            target = self.target_transform(target)\n",
    "\n",
    "        return x_i, x_j, target"
   ],
   "id": "e9d1e3749f47a964"
  },
  {
   "metadata": {},
   "cell_type": "code",
   "outputs": [],
   "execution_count": null,
   "source": [
    "def compute_test_transform():\n",
    "    test_transform = transforms.Compose([\n",
    "        transforms.ToTensor(),\n",
    "        transforms.Normalize([0.4914, 0.4822, 0.4465], [0.2023, 0.1994, 0.2010])])\n",
    "    return test_transform"
   ],
   "id": "455daea1a0012fa2"
  }
 ],
 "metadata": {
  "kernelspec": {
   "display_name": "Python 3",
   "language": "python",
   "name": "python3"
  },
  "language_info": {
   "codemirror_mode": {
    "name": "ipython",
    "version": 2
   },
   "file_extension": ".py",
   "mimetype": "text/x-python",
   "name": "python",
   "nbconvert_exporter": "python",
   "pygments_lexer": "ipython2",
   "version": "2.7.6"
  }
 },
 "nbformat": 4,
 "nbformat_minor": 5
}
